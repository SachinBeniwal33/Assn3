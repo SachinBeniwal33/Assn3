{
  "nbformat": 4,
  "nbformat_minor": 0,
  "metadata": {
    "colab": {
      "provenance": []
    },
    "kernelspec": {
      "name": "python3",
      "display_name": "Python 3"
    },
    "language_info": {
      "name": "python"
    }
  },
  "cells": [
    {
      "cell_type": "code",
      "source": [
        "class Employee():\n",
        "  ec = 0\n",
        "  es = 0\n",
        "  def __init__(self, name, family, department, salary = 0):\n",
        "    self.name = name\n",
        "    self.family = family\n",
        "    self.salary = salary\n",
        "    self.department = department\n",
        "    Employee.ec += 1\n",
        "    Employee.es += self.salary\n",
        "  def avg_salary(self):\n",
        "    return \"The Average Salary is: $\" + str(Employee.es / Employee.ec)\n",
        "class Full_Time_Employee(Employee):\n",
        "  fes = 0\n",
        "  fec = 0\n",
        "  def __init__(self, name, family, department,  salary):\n",
        "    super().__init__(name, family, department)\n",
        "    self.salary = salary\n",
        "    Full_Time_Employee.fec += 1\n",
        "    Full_Time_Employee.fes += self.salary\n",
        "  def avg_salary(self):\n",
        "      return \"The Average Salary is: $\" + str(Full_Time_Employee.fes / Full_Time_Employee.fec)\n",
        "employee_1 = Employee(\"Sachin\", \"Beniwal\", \"Full Stack\", 120000)\n",
        "employee_2 = Employee(\"Chakradhar\", \"Jonanalagadda\", \"Salesforce\", 140000)\n",
        "employee_3 = Employee(\"Abhishek\", \"Gajula\", \"UI\", 130000)\n",
        "employee_4 = Employee(\"Phani\", \"Katta\", \"Devops\", 100000)\n",
        "full_employee_1 = Full_Time_Employee(\"Siddu\", \"Moosewala\", \"Techincal Architect in Java\", 200000)\n",
        "print(\"Total no. of employees in the company are: \" + str(Employee.ec))\n",
        "print(\"Total no. of full time employees in the company are: \" + str(Full_Time_Employee.fec))\n",
        "print()\n",
        "print(employee_1.avg_salary())\n",
        "print(full_employee_1.avg_salary())"
      ],
      "metadata": {
        "colab": {
          "base_uri": "https://localhost:8080/"
        },
        "id": "zK3qVk-IO84Q",
        "outputId": "27ea06e2-6511-4f35-9c5e-eb38309a9fad"
      },
      "execution_count": 4,
      "outputs": [
        {
          "output_type": "stream",
          "name": "stdout",
          "text": [
            "Total no. of employees in the company are: 5\n",
            "Total no. of full time employees in the company are: 1\n",
            "\n",
            "The Average Salary is: $98000.0\n",
            "The Average Salary is: $200000.0\n"
          ]
        }
      ]
    },
    {
      "cell_type": "code",
      "source": [
        "import numpy as n\n",
        "random_vector = n.arange(1, 21, dtype=float)\n",
        "print(random_vector)\n",
        "random_vector = random_vector.reshape(4,5)\n",
        "print(random_vector)\n",
        "random_vector = n.where(n.isin(random_vector, random_vector.max(axis=1)), 0, random_vector)\n",
        "print(random_vector)"
      ],
      "metadata": {
        "colab": {
          "base_uri": "https://localhost:8080/"
        },
        "id": "5gKXeqPLR1ZO",
        "outputId": "c3c4be27-1fc0-486b-c1b1-e42a898970be"
      },
      "execution_count": 3,
      "outputs": [
        {
          "output_type": "stream",
          "name": "stdout",
          "text": [
            "[ 1.  2.  3.  4.  5.  6.  7.  8.  9. 10. 11. 12. 13. 14. 15. 16. 17. 18.\n",
            " 19. 20.]\n",
            "[[ 1.  2.  3.  4.  5.]\n",
            " [ 6.  7.  8.  9. 10.]\n",
            " [11. 12. 13. 14. 15.]\n",
            " [16. 17. 18. 19. 20.]]\n",
            "[[ 1.  2.  3.  4.  0.]\n",
            " [ 6.  7.  8.  9.  0.]\n",
            " [11. 12. 13. 14.  0.]\n",
            " [16. 17. 18. 19.  0.]]\n"
          ]
        }
      ]
    },
    {
      "cell_type": "code",
      "source": [],
      "metadata": {
        "id": "o82L9JH45kq1"
      },
      "execution_count": null,
      "outputs": []
    }
  ]
}